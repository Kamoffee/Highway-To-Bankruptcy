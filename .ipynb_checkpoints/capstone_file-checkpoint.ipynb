{
 "cells": [
  {
   "cell_type": "code",
   "execution_count": 5,
   "metadata": {},
   "outputs": [],
   "source": [
    "import re"
   ]
  },
  {
   "cell_type": "code",
   "execution_count": 18,
   "metadata": {},
   "outputs": [
    {
     "name": "stdout",
     "output_type": "stream",
     "text": [
      "[]\n"
     ]
    }
   ],
   "source": [
    "lst = []\n",
    "with open('merged_file.txt', 'r') as file:\n",
    "    fhand = file.read()\n",
    "    pattern_one = r'd{2}/\\d{2}/\\d{4}'\n",
    "    pattern_two = r'd{2}/\\d{2}'\n",
    "    pattern_three = r'd{2}/\\d{4}'\n",
    "    match_one = re.findall(pattern_one, fhand)\n",
    "    match_two = re.findall(pattern_two, fhand)\n",
    "    match_three = re.findall(pattern_three, fhand)\n",
    "    lst.extend(match_one)\n",
    "    lst.extend(match_two)\n",
    "    lst.extend(match_three)\n",
    "    print(lst)"
   ]
  },
  {
   "cell_type": "code",
   "execution_count": 15,
   "metadata": {},
   "outputs": [],
   "source": []
  },
  {
   "cell_type": "code",
   "execution_count": 16,
   "metadata": {},
   "outputs": [],
   "source": []
  },
  {
   "cell_type": "code",
   "execution_count": 13,
   "metadata": {},
   "outputs": [
    {
     "name": "stdout",
     "output_type": "stream",
     "text": [
      "[]\n"
     ]
    }
   ],
   "source": []
  },
  {
   "cell_type": "code",
   "execution_count": 4,
   "metadata": {},
   "outputs": [],
   "source": [
    "# import re\n",
    "\n",
    "# # Initialize an empty list to store the matched dates\n",
    "# lst = []\n",
    "\n",
    "# # Open and read the file content\n",
    "# with open('merged_file.txt', 'r') as file:\n",
    "#     fhand = file.read()\n",
    "\n",
    "# # Define the regex patterns\n",
    "# pattern_one = r'\\b\\d{2}/\\d{2}/\\d{4}\\b'  # MM/DD/YYYY\n",
    "# pattern_two = r'\\b\\d{2}/\\d{2}\\b'        # MM/DD\n",
    "# pattern_three = r'\\b\\d{2}/\\d{4}\\b'      # MM/YYYY\n",
    "\n",
    "# # Find all matches for each pattern\n",
    "# matches_one = re.findall(pattern_one, fhand)\n",
    "# matches_two = re.findall(pattern_two, fhand)\n",
    "# matches_three = re.findall(pattern_three, fhand)\n",
    "\n",
    "# # Add the matches to the list, ensuring no duplicates\n",
    "# lst.extend(matches_one)\n",
    "# lst.extend([m for m in matches_two if m not in lst])\n",
    "# lst.extend([m for m in matches_three if m not in lst])\n",
    "\n",
    "# # Print the list of matched dates\n",
    "# print(lst)\n"
   ]
  },
  {
   "cell_type": "code",
   "execution_count": null,
   "metadata": {},
   "outputs": [],
   "source": []
  }
 ],
 "metadata": {
  "kernelspec": {
   "display_name": "Python 3 (ipykernel)",
   "language": "python",
   "name": "python3"
  },
  "language_info": {
   "codemirror_mode": {
    "name": "ipython",
    "version": 3
   },
   "file_extension": ".py",
   "mimetype": "text/x-python",
   "name": "python",
   "nbconvert_exporter": "python",
   "pygments_lexer": "ipython3",
   "version": "3.10.12"
  }
 },
 "nbformat": 4,
 "nbformat_minor": 2
}
